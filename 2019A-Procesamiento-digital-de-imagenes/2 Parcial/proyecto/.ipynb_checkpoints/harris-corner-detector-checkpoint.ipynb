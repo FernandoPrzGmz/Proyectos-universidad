{
 "cells": [
  {
   "cell_type": "markdown",
   "metadata": {},
   "source": [
    "# Harris Detector: Algorithm\n",
    "\n",
    "1. Compute Gaussian derivatives at each pixel\n",
    "2. Compute second moment matrix M in a Gaussian window around each pixel\n",
    "3. Compute corner response function R\n",
    "4. Threshold R\n",
    "5. Find local maxima of response function (non maximum suppression)\n",
    "\n",
    "Psedo Code Reference -- GaTech Udacity Course\n",
    "\n",
    "## NOTE -- There are some issues with this code. Need to sort it out."
   ]
  },
  {
   "cell_type": "code",
   "execution_count": 1,
   "metadata": {},
   "outputs": [
    {
     "name": "stdout",
     "output_type": "stream",
     "text": [
      "Populating the interactive namespace from numpy and matplotlib\n"
     ]
    }
   ],
   "source": [
    "%pylab inline\n",
    "# Import the OpenCV bindings\n",
    "import cv2\n",
    "# To Increase the image size\n",
    "pylab.rcParams['figure.figsize'] = (8.0, 8.0)"
   ]
  },
  {
   "cell_type": "code",
   "execution_count": 2,
   "metadata": {},
   "outputs": [
    {
     "data": {
      "text/plain": [
       "(-0.5, 481.5, 488.5, -0.5)"
      ]
     },
     "execution_count": 2,
     "metadata": {},
     "output_type": "execute_result"
    },
    {
     "data": {
      "image/png": "[encoded data removed]",
      "text/plain": [
       "<matplotlib.figure.Figure at 0xa0fef10>"
      ]
     },
     "metadata": {
      "needs_background": "light"
     },
     "output_type": "display_data"
    }
   ],
   "source": [
    "# Load the Image\n",
    "im = cv2.imread('input.png')\n",
    "# Convert the image to grayscale\n",
    "im_gray = cv2.cvtColor(im, cv2.COLOR_BGR2GRAY)\n",
    "imshow(im)\n",
    "title('Input Image')\n",
    "axis('off')"
   ]
  },
  {
   "cell_type": "code",
   "execution_count": 3,
   "metadata": {},
   "outputs": [
    {
     "data": {
      "text/plain": [
       "(-0.5, 481.5, 488.5, -0.5)"
      ]
     },
     "execution_count": 3,
     "metadata": {},
     "output_type": "execute_result"
    },
    {
     "data": {
      "image/png": "[encoded data removed]",
      "text/plain": [
       "<matplotlib.figure.Figure at 0xa229230>"
      ]
     },
     "metadata": {
      "needs_background": "light"
     },
     "output_type": "display_data"
    }
   ],
   "source": [
    "# Calculate the gradient in X direction\n",
    "# I skipped Gaussian Smoothening after the derivative\n",
    "i_x = cv2.Sobel(im_gray, cv2.CV_64F, 1, 0)\n",
    "imshow(i_x, cmap=gray())\n",
    "title('Gradient in X direction')\n",
    "axis('off')"
   ]
  },
  {
   "cell_type": "code",
   "execution_count": 4,
   "metadata": {},
   "outputs": [
    {
     "data": {
      "text/plain": [
       "(-0.5, 481.5, 488.5, -0.5)"
      ]
     },
     "execution_count": 4,
     "metadata": {},
     "output_type": "execute_result"
    },
    {
     "data": {
      "image/png": "[encoded data removed]",
      "text/plain": [
       "<matplotlib.figure.Figure at 0x4abd9f0>"
      ]
     },
     "metadata": {
      "needs_background": "light"
     },
     "output_type": "display_data"
    }
   ],
   "source": [
    "# Calculate the gradient in Y direction\n",
    "# I skipped Gaussian Smoothening after the derivative\n",
    "i_y = cv2.Sobel(im_gray, cv2.CV_64F, 0, 1)\n",
    "imshow(i_y, cmap=gray())\n",
    "title('Gradient in Y direction')\n",
    "axis('off')"
   ]
  },
  {
   "cell_type": "code",
   "execution_count": 5,
   "metadata": {},
   "outputs": [],
   "source": [
    "# Calculate the product of derivates in each direction\n",
    "i_xx = multiply(i_x, i_x)\n",
    "i_xy = multiply(i_x, i_y)\n",
    "i_yy = multiply(i_y, i_y)"
   ]
  },
  {
   "cell_type": "code",
   "execution_count": 6,
   "metadata": {},
   "outputs": [],
   "source": [
    "# Calculate the sum of product of derivates\n",
    "s_xx = cv2.GaussianBlur(i_xx, (5,5), 0)\n",
    "s_xy = cv2.GaussianBlur(i_xy, (5,5), 0)\n",
    "s_yy = cv2.GaussianBlur(i_yy, (5,5), 0)"
   ]
  },
  {
   "cell_type": "code",
   "execution_count": 7,
   "metadata": {},
   "outputs": [
    {
     "data": {
      "text/plain": [
       "(-0.5, 481.5, 488.5, -0.5)"
      ]
     },
     "execution_count": 7,
     "metadata": {},
     "output_type": "execute_result"
    },
    {
     "data": {
      "image/png": "[encoded data removed]",
      "text/plain": [
       "<matplotlib.figure.Figure at 0xa476c30>"
      ]
     },
     "metadata": {
      "needs_background": "light"
     },
     "output_type": "display_data"
    }
   ],
   "source": [
    "# Compute the response of the detector at each point\n",
    "k = .04 # Recommended value between .04 and .06\n",
    "det_h = multiply(s_xx, s_yy) - multiply(s_xy, s_xy)\n",
    "trace_h = s_xx + s_yy\n",
    "R = det_h - k*multiply(trace_h, trace_h)\n",
    "\n",
    "# Threshold the image\n",
    "ratio = .2 # Number to tweak\n",
    "thresh = abs(R) > ratio * abs(R).max()\n",
    "imshow(thresh, cmap=gray())\n",
    "title('Thresholded Image')\n",
    "axis('off')"
   ]
  },
  {
   "cell_type": "code",
   "execution_count": 8,
   "metadata": {},
   "outputs": [
    {
     "name": "stdout",
     "output_type": "stream",
     "text": [
      "Number of points detected before NMS = 5680 \n",
      "Number of points detected after NMS = 424 \n"
     ]
    }
   ],
   "source": [
    "# Compute non-maximal supression\n",
    "\n",
    "# Get the indexes of the non zero values\n",
    "non_zero_cords = np.nonzero(thresh)\n",
    "\n",
    "# Tupled Co-ordinates\n",
    "tuple_cords = [(i, j) for i,j in zip(non_zero_cords[0], non_zero_cords[1])] \n",
    "# Values at the these co-ordinates\n",
    "values = [abs(R)[i, j] for i, j in tuple_cords]\n",
    "# Sort the co-ordinates based on the R values\n",
    "sorted_cords = [tuple_cords[i] for i in argsort(values)[::-1]]\n",
    "# Set Distance to perform NMS\n",
    "# Any point with this distance of an \n",
    "# already selected point will be suppressed\n",
    "distance = 10 # Number to tweak \n",
    "# List to hold the cords after NMS\n",
    "nms_cords = []\n",
    "nms_cords.append(sorted_cords[0])\n",
    "for cord in sorted_cords:\n",
    "    for nms_cord in nms_cords:\n",
    "        if abs(cord[0]-nms_cord[0]) < distance and abs(cord[1]-nms_cord[1]) < distance:\n",
    "            break\n",
    "    else:\n",
    "        nms_cords.append(cord)\n",
    "print \"Number of points detected before NMS = {} \".format(sum(thresh))\n",
    "print \"Number of points detected after NMS = {} \".format(len(nms_cords))"
   ]
  },
  {
   "cell_type": "code",
   "execution_count": 9,
   "metadata": {},
   "outputs": [
    {
     "data": {
      "text/plain": [
       "(-0.5, 481.5, 488.5, -0.5)"
      ]
     },
     "execution_count": 9,
     "metadata": {},
     "output_type": "execute_result"
    },
    {
     "data": {
      "image/png": "[encoded data removed]",
      "text/plain": [
       "<matplotlib.figure.Figure at 0x3674650>"
      ]
     },
     "metadata": {
      "needs_background": "light"
     },
     "output_type": "display_data"
    }
   ],
   "source": [
    "# Draw the image with the detected corners\n",
    "for nms_cord in nms_cords:\n",
    "    cv2.circle(im, (nms_cord[1], nms_cord[0]), 4, (0, 0, 255), -1)\n",
    "imshow(cv2.cvtColor(im, cv2.COLOR_BGR2RGB))\n",
    "title('Input Image with detected features')\n",
    "axis('off')"
   ]
  }
 ],
 "metadata": {
  "kernelspec": {
   "display_name": "Python 2",
   "language": "python",
   "name": "python2"
  },
  "language_info": {
   "codemirror_mode": {
    "name": "ipython",
    "version": 2
   },
   "file_extension": ".py",
   "mimetype": "text/x-python",
   "name": "python",
   "nbconvert_exporter": "python",
   "pygments_lexer": "ipython2",
   "version": "2.7.15"
  }
 },
 "nbformat": 4,
 "nbformat_minor": 1
}
